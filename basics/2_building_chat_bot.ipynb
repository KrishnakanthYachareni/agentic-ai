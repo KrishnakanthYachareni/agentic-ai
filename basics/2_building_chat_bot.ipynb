{
 "cells": [
  {
   "cell_type": "markdown",
   "metadata": {},
   "source": [
    "## Building a Chat Bot\n",
    "\n",
    "Today we're going to build something with immediate value!\n",
    "\n",
    "In the folder `me` I've put a single file `linkedin.pdf` - it's a PDF download of my LinkedIn profile.\n",
    "\n",
    "Please replace it with yours!"
   ]
  },
  {
   "cell_type": "markdown",
   "metadata": {},
   "source": [
    "<table style=\"margin: 0; text-align: left; width:100%\">\n",
    "    <tr>\n",
    "        <td>\n",
    "            <h2 style=\"color:#00bfff;\">Looking up packages</h2>\n",
    "            <span style=\"color:#00bfff;\">In this lab, we're going to use the wonderful Gradio package for building quick UIs, \n",
    "            and we're also going to use the popular PyPDF2 PDF reader. You can get guides to these packages by asking \n",
    "            ChatGPT or Claude, and you find all open-source packages on the repository <a href=\"https://pypi.org\">https://pypi.org</a>.\n",
    "            </span>\n",
    "        </td>\n",
    "    </tr>\n",
    "</table>"
   ]
  },
  {
   "cell_type": "code",
   "execution_count": 1,
   "metadata": {},
   "outputs": [],
   "source": [
    "# If you don't know what any of these packages do - you can always ask ChatGPT for a guide!\n",
    "\n",
    "from dotenv import load_dotenv\n",
    "from openai import OpenAI\n",
    "from pypdf import PdfReader\n",
    "import gradio as gr"
   ]
  },
  {
   "cell_type": "code",
   "execution_count": 2,
   "metadata": {},
   "outputs": [],
   "source": [
    "load_dotenv(override=True)\n",
    "openai = OpenAI()"
   ]
  },
  {
   "cell_type": "code",
   "execution_count": 3,
   "metadata": {},
   "outputs": [],
   "source": [
    "reader = PdfReader(\"me/linkedin.pdf\")\n",
    "linkedin = \"\"\n",
    "for page in reader.pages:\n",
    "    text = page.extract_text()\n",
    "    if text:\n",
    "        linkedin += text"
   ]
  },
  {
   "cell_type": "code",
   "execution_count": 4,
   "metadata": {},
   "outputs": [
    {
     "name": "stdout",
     "output_type": "stream",
     "text": [
      "   \n",
      "Contact\n",
      "430 Buckingham Rd, Richardson,\n",
      "Texas 75081\n",
      "+16019132820 (Mobile)\n",
      "yacharenikrishnakanth@gmail\n",
      ".com\n",
      "www.linkedin.com/in/\n",
      "yacharenikrishnakanth (LinkedIn)\n",
      "krishnakanthyachareni.github.io/\n",
      "personal-website/ (Portfolio)\n",
      "sites.google.com/site/\n",
      "krishnakanthychareni/home\n",
      "(Personal)\n",
      "code2getday.blogspot.com/ (Blog)\n",
      "Top Skills\n",
      "Engineering\n",
      "Java Development\n",
      "Microsoft Azure\n",
      "Languages\n",
      "Telugu (Native or Bilingual)\n",
      "English (Full Professional)\n",
      "Hindi (Elementary)\n",
      "Certifications\n",
      "React.js: Building an Interface\n",
      "Intro to Python for Data Science\n",
      "Mastering Microservices with Java\n",
      "Database in the Cloud\n",
      "Angular Essential Training\n",
      "Honors-Awards\n",
      "Best Software Engineer-Award\n",
      "Graduate Research Assistant\n",
      "Krishnakanth Yachareni\n",
      "Senior Software Engineer @ Walmart | AI | Machine Learning\n",
      "| Design Scalable & Reliable Systems | DSA | Competitive\n",
      "Programmer\n",
      "Richardson, Texas, United States\n",
      "Summary\n",
      "• Highly motivated and experienced Software Engineer with a\n",
      "strong background in developing and delivering high-quality, reliable\n",
      "software solutions. \n",
      "• 5+ years of commendable experience in developing enterprise\n",
      "applications using Java/J2EE in Agile and Scaled Agile\n",
      "methodology.\n",
      "• Proven track record of delivering successful projects on time and\n",
      "within budget. \n",
      "• Strong problem-solving skills and ability to work well in a team\n",
      "environment.\n",
      "• Passionate about staying current with industry trends and\n",
      "technology advancements to deliver high- quality, reliable software. \n",
      "• Seeking to leverage my skills and experience to make a positive\n",
      "impact at a dynamic and innovative company.\n",
      "• Good experience in developing RESTful web services using Spring\n",
      "Boot, and Microservices.\n",
      "• Can develop an efficient event-driven based API using an\n",
      "asynchronous messaging system.\n",
      "• Able to design, and implement the highly scalable, available\n",
      "system.\n",
      "• Hands-on experience in designing and developing dynamic HTML\n",
      "pages using Angular.\n",
      "• Key business domain banking/finance.\n",
      "• Key members involved in the integration of gateway with global\n",
      "payment gateways such as  NPCI (RuPay), PayPal, MADA,\n",
      "FirstData, 3DS Authentication, Accertify(Interceptas) Risk\n",
      "management.\n",
      "• Involved in the complete software development lifecycle, including\n",
      "design, development, deployment, and automation testing of the\n",
      "application.\n",
      "• Ability to handle multiple tasks independently and in a team.\n",
      "  Page 1 of 7   \n",
      "• An effective communicator with excellent interpersonal, logical\n",
      "thinking & analytical abilities.\n",
      "SKILLS/INTERESTS:\n",
      "➢ Languages: Java, Python, JavaScript(ES6), TypeScript, R-\n",
      "Programming, SQL.\n",
      "➢ Spring framework: Spring Boot, Spring Core, Spring MVC, Spring\n",
      "AOP, Spring ORM, Security, Spring \n",
      "REST/SOAP\n",
      "➢ Back-end: JavaEE, Microservices, RESTFul, GraphQL, Node.js,\n",
      "Express.js, Apache Kafka, RabbitMQ, Nchan messaging, \n",
      "AWS \n",
      "(EC2, S3, Cloud Front, Redis), GCP\n",
      "➢ Frond-end: Angular 8+, React.js, Redux, HTML5, CSS3,\n",
      "BootStrap, Velocity.\n",
      "➢ DataBase: Oracle, MySQL, Cassandra, MongoDB\n",
      "➢ Automation Testing: Selenium, Cucumber, Apache Jmeter,\n",
      "Jenkins.\n",
      "➢ Frameworks & Tools: AWS, Docker, Kubernetes, Maven, Gradle,\n",
      "Junit, Spock, Mockito, Jasmine, \n",
      "Karma, Power Mockito.\n",
      "➢ Machine Learning: Python, Deep Learning, CNN, Tensorflow,\n",
      "Keras, OpenCV\n",
      "Experience\n",
      "Walmart Global Tech\n",
      "2 years 6 months\n",
      "Senior Software Engineer\n",
      "January 2025 - Present (6 months)\n",
      "Dallas, Texas, United States\n",
      "Software Engineer III\n",
      "January 2023 - December 2024 (2 years)\n",
      "Dallas, Texas, United States\n",
      "1. Working with the Stores, Associates & Platforms team on the Data Ingestion\n",
      "pipelines serving approximately 1.6 million U.S. Walmart Associates and\n",
      "processing around daily 150 million events\n",
      "2. Working on the micro-service based architecture & distributed systems,\n",
      "scaling applications across multi regions\n",
      "  Page 2 of 7   \n",
      "3. Contributed to substantial cost savings for the company by successfully\n",
      "implementing cloud cost optimization strategies and efficiently reducing\n",
      "operational expenses.\n",
      "4. Implemented an event loop to execute Firebase HTTP calls in parallel\n",
      "and in a reactive manner, resulting in a 50% reduction in cloud costs. This\n",
      "approach also minimized CPU usage and memory utilization. Utilized Project\n",
      "Reactor library and Spring WebFlux and applied HTTP/2 (Multiplexing) for this\n",
      "achievement.\n",
      "5. Performed memory and thread profiling in Java to address the issue of\n",
      "memory leaks in production pods.\n",
      "6. Successfully spearheaded the integration of the SMS feature with the\n",
      "notification platform and directly oversaw the delegation of SMS-related tasks\n",
      "to our colleagues.\n",
      "7. Designed scalable systems based on event-driven architecture.\n",
      "8. Implemented RESTful, GraphQL APIs and Microservices, improving system\n",
      "modularity and scalability, resulting in a 30% reduction in response time.\n",
      "9. Led efforts to optimize database queries, reducing query execution times by\n",
      "25% and enhancing overall application performance.\n",
      "10. Implemented continuous integration and continuous deployment (CI/CD)\n",
      "pipelines, automating deployment processes and reducing deployment errors\n",
      "by 15%.\n",
      "11. Designed and implemented comprehensive unit tests and end-to-end tests,\n",
      "achieving 90% test coverage and improving overall software reliability.\n",
      "12. Implemented security best practices, ensuring compliance with industry\n",
      "standards and protecting sensitive user data from vulnerabilities.\n",
      "Copart\n",
      "Software Engineer Intern\n",
      "May 2022 - December 2022 (8 months)\n",
      "Dallas, Texas, United States\n",
      "1. Developed an internal notification system, which offers managing operations\n",
      "on notifications created by Copart users.\n",
      "2. Established baseline setup for any new applications by working with Domain\n",
      "Architects, Information security, and other internal teams.\n",
      "3. Improved applications start-up performance by over 50% faster.\n",
      "4. Worked with UX designers and other developers to build modular, reusable\n",
      "components and compelling web applications.\n",
      "5. Worked with experienced developers to understand and help build an eco-\n",
      "system of scalable microservices in Java and Spring framework\n",
      "6. Developed a passion for creating experiences that users will rave about.\n",
      "  Page 3 of 7   \n",
      "7. Improved applications start-up performance by over 10% faster using\n",
      "GraalVM\n",
      "8. Implemented Dead Letter Queue (DLQ) pattern to retry the undelivered\n",
      "messages to the queue with a specified time interval in between the retries\n",
      "and when the number of retries is exhausted and stored these dead messages\n",
      "in the database for further recovery.\n",
      "9. Implemented an internal caching mechanism to avoid the extra REST calls\n",
      "for the user, yards, and group validations.\n",
      "10. Upgraded existing spring boot 2.3.4 application to spring boot 3.0.0 where\n",
      "changes have been made to spring security, spring cloud vault, spring cloud\n",
      "stream rabbit, open API, and Jakarta EE 9, JDK 17.\n",
      "11. Introduced GraalVM to an existing Copart notification application to\n",
      "improve the performance of languages that run on the JVM, reducing\n",
      "application startup times, integrating multi-language support into the Java\n",
      "ecosystem, as well as providing a set of programming tools to do so.\n",
      "The University of Southern Mississippi\n",
      "Graduate Research Assistant\n",
      "August 2021 - December 2022 (1 year 5 months)\n",
      "Hattiesburg, Mississippi, United States\n",
      "1. Served as a Research Assistant where I contributed to developing an\n",
      "efficient geographic information system for NOAA.\n",
      "2.  NOAA is an American scientific and regulatory agency within the United\n",
      "States Department of Commerce that forecasts weather monitors oceanic and\n",
      "atmospheric conditions, charts the seas, and conducts deep sea exploration.\n",
      "3.  Implemented map-based web application to handle US NOAA ocean\n",
      "exploration data which includes ship paths, Research vessels sensor collected\n",
      "information.\n",
      "4. Assist in developing a dynamic set of resources through the Geographic\n",
      "information system database using MongoDB, and S3 Bucket.\n",
      "5. Designed the web prototype to handle over 2TB of media data.\n",
      "6. Implemented the machine learning model to identify and extract the\n",
      "annotation, and bounding box information about fishes in an NOAA video\n",
      "dataset.\n",
      "7. Used Fathomnet API to collect and prepare the dataset to train the machine\n",
      "learning model using the TensorFlow object detection model.\n",
      "Mastercard\n",
      "3 years 7 months\n",
      "Software Engineer\n",
      "  Page 4 of 7   \n",
      "June 2019 - July 2021 (2 years 2 months)\n",
      "Hyderabad, Telangana\n",
      "EPAM Systems is my vendor and worked for a Mastercard client for more than\n",
      "3 years where I was part of the core payment gateway development team.\n",
      "Each team member is responsible for following the complete development\n",
      "life cycle of software: requirement analysis, development, and unit testing,\n",
      "integration testing using selenium & cucumber, Quality checking, production\n",
      "deployment, and fixes.\n",
      "1. My role involved into exploration & integration of various real-time payment\n",
      "services with Mastercard Payment Gateway.\n",
      "2. Develop the backend logic with a TDD approach and the frontend logic with\n",
      "the BDD approach.\n",
      "3. Writing backend unit test cases with Junit and Mockito and front-end with\n",
      "Jasmine and Karma.\n",
      "4. Work with a variety of different languages, platforms, frameworks, CI/CD\n",
      "tools, and content management systems such as Java8, Spring Framework,\n",
      "Microservices, RESTful API, JSON/XML, JavaScript, TypeScript, Angular,\n",
      "MySQL, Cassandra, Junit, Mockito, Selenium and cucumber, Jenkins, Docker.\n",
      "5. Develop automation scripts.\n",
      "6. Communicate with multi-disciplinary teams of engineers, architects,\n",
      "designers, product owners, and clients on a daily basis.\n",
      "**Risk Management**\n",
      "1. Integrated MC with Interceptas® platform so that the Interceptas® platform\n",
      "can be used for risk management of transactions processed through the  MC\n",
      "gateway.\n",
      "2. We used Spring expression language to translate the intercepts SOAP\n",
      "requests and responses.\n",
      "3. I've Implemented mutual TLS client and server authentication with F5 by\n",
      "providing the application certificates. Here I used the Apache core SSLContext\n",
      "library to do mTLS.\n",
      "**FirstData (Fiserv)**\n",
      "1. Integrated The First Data via Rapid Connect (PTS) acquirer with Mastercard\n",
      "gateway to process\n",
      "1. Authorization traffic via Rapid Connect to Cardnet (and Nashville)\n",
      "2. For Settlement traffic directly to PTS\n",
      "  Page 5 of 7   \n",
      "2. Java8 features are extensively used in this microservice during integration.\n",
      "3. Written integration test cases using the Cucumber framework\n",
      "Junior Software Engineer\n",
      "January 2018 - May 2019 (1 year 5 months)\n",
      "Pune, Maharashtra\n",
      "**Domestic Gateway Integration:**\n",
      "1.  I'm a core member of the team where we integrated India's largest payment\n",
      "gateway RuPay(NPCI) with MasterCard Gateway.\n",
      "2. RuPay payer authentication via RuPay PaySecure is used to authenticate\n",
      "payers when using their RuPay card. and it has mandated, that RuPay payer\n",
      "authentication must be performed prior to the authorization of the funds,\n",
      "reducing the incidence of fraud.\n",
      "3. Cardholders will be redirected to a site hosted by the Issuer Bank to enter\n",
      "a One-Time-Password (OTP) via the NPCI network. The merchant will be\n",
      "provided with the authentication result. The merchant must only proceed to the\n",
      "Authorization if the payer authentication is as successful. \n",
      "**PayPal Intergation:**\n",
      "1. PayPal is a browser payment method, that allows customers to pay using\n",
      "their PayPal account (where this account can be associated with a credit card,\n",
      "bank account, etc.\n",
      "2. Introduced a new microservice for PayPal handling in gateway from scratch\n",
      "and I was applied different sort of design patterns.\n",
      "3. Implemented notification facilities to a merchant by registering the webhook\n",
      "with PayPal, introduced circuit-breaker the pattern in the application that\n",
      "handles the timeout scenarios, handling PayPal Rest Exceptions.\n",
      "Tata Consultancy Services\n",
      "Assistant System Engineer-Trainee\n",
      "November 2017 - January 2018 (3 months)\n",
      "Hyderabad, Telangana, India\n",
      "1. As Trainee-Attended the first phase of Initial Learning Programme(ILP)\n",
      "conducted by TCS for every fresher and It included training on Object-Oriented\n",
      "Languages OOP on java, Python and also basics of Oracle.\n",
      "2. Got An Appreciation for Crowd testing of Anyone can code, where it is an\n",
      "online coding challenges platform.\n",
      "3. Collaborated with a small team of student designers to develop a new mini\n",
      "banking web application before graduating from the ILP training.\n",
      "  Page 6 of 7   \n",
      "HYSEA – Hyderabad Software Enterprises Association\n",
      "Software Engineer Intern\n",
      "May 2016 - August 2016 (4 months)\n",
      "Hyderabad Area, India\n",
      "A four-month Summer Engineering Internship program organized by JNTUH in\n",
      "collaboration with Telangana Academy\n",
      "for skill and knowledge and The Hyderabad Software Enterprises Association\n",
      "1. Developed real-time IOT based android application called Ostello, wherein\n",
      "an interactive platform is provided for nonlocal people & Hostel/Mansion.\n",
      "2. Users can search for the appropriate hostel with preferences like time, fee\n",
      "location & booking.\n",
      "3. It’s all happening on the client side and vendor side hostel management\n",
      "system with the help of fingerprint scanner.\n",
      "4. Tools used in applications are Android, Python, PHP, MySQL, Java, and\n",
      "Raspberry Pi.\n",
      "Education\n",
      "The University of Southern Mississippi\n",
      "Masters, Computer Science · (January 2021 - December 2022)\n",
      "Jawaharlal Nehru Technological University\n",
      "Bachelor of Technology (B.Tech.), COMPUTER SCIENCE AND\n",
      "ENGINEERING\n",
      "  Page 7 of 7\n"
     ]
    }
   ],
   "source": [
    "print(linkedin)"
   ]
  },
  {
   "cell_type": "code",
   "execution_count": 5,
   "metadata": {},
   "outputs": [],
   "source": [
    "with open(\"me/summary.txt\", \"r\", encoding=\"utf-8\") as f:\n",
    "    summary = f.read()"
   ]
  },
  {
   "cell_type": "code",
   "execution_count": 6,
   "metadata": {},
   "outputs": [],
   "source": [
    "name = \"Krishnakanth Yachareni\""
   ]
  },
  {
   "cell_type": "code",
   "execution_count": 7,
   "metadata": {},
   "outputs": [],
   "source": [
    "system_prompt = f\"You are acting as {name}. You are answering questions on {name}'s website, \\\n",
    "particularly questions related to {name}'s career, background, skills and experience. \\\n",
    "Your responsibility is to represent {name} for interactions on the website as faithfully as possible. \\\n",
    "You are given a summary of {name}'s background and LinkedIn profile which you can use to answer questions. \\\n",
    "Be professional and engaging, as if talking to a potential client or future employer who came across the website. \\\n",
    "If you don't know the answer, say so.\"\n",
    "\n",
    "system_prompt += f\"\\n\\n## Summary:\\n{summary}\\n\\n## LinkedIn Profile:\\n{linkedin}\\n\\n\"\n",
    "system_prompt += f\"With this context, please chat with the user, always staying in character as {name}.\"\n"
   ]
  },
  {
   "cell_type": "code",
   "execution_count": 8,
   "metadata": {},
   "outputs": [
    {
     "data": {
      "text/plain": [
       "\"You are acting as Krishnakanth Yachareni. You are answering questions on Krishnakanth Yachareni's website, particularly questions related to Krishnakanth Yachareni's career, background, skills and experience. Your responsibility is to represent Krishnakanth Yachareni for interactions on the website as faithfully as possible. You are given a summary of Krishnakanth Yachareni's background and LinkedIn profile which you can use to answer questions. Be professional and engaging, as if talking to a potential client or future employer who came across the website. If you don't know the answer, say so.\\n\\n## Summary:\\nMy name is Krishna. I'm an software engineer and data scientist. I'm originally from Hyderabad, India, but I moved to USA in 2021.\\nI love all foods, particularly Mexican food, but strangely I'm repelled by almost all forms of cheese. I'm not allergic, I just hate the taste! I make an exception for cream cheese and mozarella though - cheesecake and pizza are the greatest.\\n\\n## LinkedIn Profile:\\n\\xa0 \\xa0\\nContact\\n430 Buckingham Rd, Richardson,\\nTexas 75081\\n+16019132820 (Mobile)\\nyacharenikrishnakanth@gmail\\n.com\\nwww.linkedin.com/in/\\nyacharenikrishnakanth (LinkedIn)\\nkrishnakanthyachareni.github.io/\\npersonal-website/ (Portfolio)\\nsites.google.com/site/\\nkrishnakanthychareni/home\\n(Personal)\\ncode2getday.blogspot.com/ (Blog)\\nTop Skills\\nEngineering\\nJava Development\\nMicrosoft Azure\\nLanguages\\nTelugu (Native or Bilingual)\\nEnglish (Full Professional)\\nHindi (Elementary)\\nCertifications\\nReact.js: Building an Interface\\nIntro to Python for Data Science\\nMastering Microservices with Java\\nDatabase in the Cloud\\nAngular Essential Training\\nHonors-Awards\\nBest Software Engineer-Award\\nGraduate Research Assistant\\nKrishnakanth Yachareni\\nSenior Software Engineer @ Walmart | AI | Machine Learning\\n| Design Scalable & Reliable Systems | DSA | Competitive\\nProgrammer\\nRichardson, Texas, United States\\nSummary\\n• Highly motivated and experienced Software Engineer with a\\nstrong background in developing and delivering high-quality, reliable\\nsoftware solutions. \\n• 5+ years of commendable experience in developing enterprise\\napplications using Java/J2EE in Agile and Scaled Agile\\nmethodology.\\n• Proven track record of delivering successful projects on time and\\nwithin budget. \\n• Strong problem-solving skills and ability to work well in a team\\nenvironment.\\n• Passionate about staying current with industry trends and\\ntechnology advancements to deliver high- quality, reliable software. \\n• Seeking to leverage my skills and experience to make a positive\\nimpact at a dynamic and innovative company.\\n• Good experience in developing RESTful web services using Spring\\nBoot, and Microservices.\\n• Can develop an efficient event-driven based API using an\\nasynchronous messaging system.\\n• Able to design, and implement the highly scalable, available\\nsystem.\\n• Hands-on experience in designing and developing dynamic HTML\\npages using Angular.\\n• Key business domain banking/finance.\\n• Key members involved in the integration of gateway with global\\npayment gateways such as  NPCI (RuPay), PayPal, MADA,\\nFirstData, 3DS Authentication, Accertify(Interceptas) Risk\\nmanagement.\\n• Involved in the complete software development lifecycle, including\\ndesign, development, deployment, and automation testing of the\\napplication.\\n• Ability to handle multiple tasks independently and in a team.\\n\\xa0 Page 1 of 7\\xa0 \\xa0\\n• An effective communicator with excellent interpersonal, logical\\nthinking & analytical abilities.\\nSKILLS/INTERESTS:\\n➢ Languages: Java, Python, JavaScript(ES6), TypeScript, R-\\nProgramming, SQL.\\n➢ Spring framework: Spring Boot, Spring Core, Spring MVC, Spring\\nAOP, Spring ORM, Security, Spring \\nREST/SOAP\\n➢ Back-end: JavaEE, Microservices, RESTFul, GraphQL, Node.js,\\nExpress.js, Apache Kafka, RabbitMQ, Nchan messaging, \\nAWS \\n(EC2, S3, Cloud Front, Redis), GCP\\n➢ Frond-end: Angular 8+, React.js, Redux, HTML5, CSS3,\\nBootStrap, Velocity.\\n➢ DataBase: Oracle, MySQL, Cassandra, MongoDB\\n➢ Automation Testing: Selenium, Cucumber, Apache Jmeter,\\nJenkins.\\n➢ Frameworks & Tools: AWS, Docker, Kubernetes, Maven, Gradle,\\nJunit, Spock, Mockito, Jasmine, \\nKarma, Power Mockito.\\n➢ Machine Learning: Python, Deep Learning, CNN, Tensorflow,\\nKeras, OpenCV\\nExperience\\nWalmart Global Tech\\n2 years 6 months\\nSenior Software Engineer\\nJanuary 2025\\xa0-\\xa0Present\\xa0(6 months)\\nDallas, Texas, United States\\nSoftware Engineer III\\nJanuary 2023\\xa0-\\xa0December 2024\\xa0(2 years)\\nDallas, Texas, United States\\n1. Working with the Stores, Associates & Platforms team on the Data Ingestion\\npipelines serving approximately 1.6 million U.S. Walmart Associates and\\nprocessing around daily 150 million events\\n2. Working on the micro-service based architecture & distributed systems,\\nscaling applications across multi regions\\n\\xa0 Page 2 of 7\\xa0 \\xa0\\n3. Contributed to substantial cost savings for the company by successfully\\nimplementing cloud cost optimization strategies and efficiently reducing\\noperational expenses.\\n4. Implemented an event loop to execute Firebase HTTP calls in parallel\\nand in a reactive manner, resulting in a 50% reduction in cloud costs. This\\napproach also minimized CPU usage and memory utilization. Utilized Project\\nReactor library and Spring WebFlux and applied HTTP/2 (Multiplexing) for this\\nachievement.\\n5. Performed memory and thread profiling in Java to address the issue of\\nmemory leaks in production pods.\\n6. Successfully spearheaded the integration of the SMS feature with the\\nnotification platform and directly oversaw the delegation of SMS-related tasks\\nto our colleagues.\\n7. Designed scalable systems based on event-driven architecture.\\n8. Implemented RESTful, GraphQL APIs and Microservices, improving system\\nmodularity and scalability, resulting in a 30% reduction in response time.\\n9. Led efforts to optimize database queries, reducing query execution times by\\n25% and enhancing overall application performance.\\n10. Implemented continuous integration and continuous deployment (CI/CD)\\npipelines, automating deployment processes and reducing deployment errors\\nby 15%.\\n11. Designed and implemented comprehensive unit tests and end-to-end tests,\\nachieving 90% test coverage and improving overall software reliability.\\n12. Implemented security best practices, ensuring compliance with industry\\nstandards and protecting sensitive user data from vulnerabilities.\\nCopart\\nSoftware Engineer Intern\\nMay 2022\\xa0-\\xa0December 2022\\xa0(8 months)\\nDallas, Texas, United States\\n1. Developed an internal notification system, which offers managing operations\\non notifications created by Copart users.\\n2. Established baseline setup for any new applications by working with Domain\\nArchitects, Information security, and other internal teams.\\n3. Improved applications start-up performance by over 50% faster.\\n4. Worked with UX designers and other developers to build modular, reusable\\ncomponents and compelling web applications.\\n5. Worked with experienced developers to understand and help build an eco-\\nsystem of scalable microservices in Java and Spring framework\\n6. Developed a passion for creating experiences that users will rave about.\\n\\xa0 Page 3 of 7\\xa0 \\xa0\\n7. Improved applications start-up performance by over 10% faster using\\nGraalVM\\n8. Implemented Dead Letter Queue (DLQ) pattern to retry the undelivered\\nmessages to the queue with a specified time interval in between the retries\\nand when the number of retries is exhausted and stored these dead messages\\nin the database for further recovery.\\n9. Implemented an internal caching mechanism to avoid the extra REST calls\\nfor the user, yards, and group validations.\\n10. Upgraded existing spring boot 2.3.4 application to spring boot 3.0.0 where\\nchanges have been made to spring security, spring cloud vault, spring cloud\\nstream rabbit, open API, and Jakarta EE 9, JDK 17.\\n11. Introduced GraalVM to an existing Copart notification application to\\nimprove the performance of languages that run on the JVM, reducing\\napplication startup times, integrating multi-language support into the Java\\necosystem, as well as providing a set of programming tools to do so.\\nThe University of Southern Mississippi\\nGraduate Research Assistant\\nAugust 2021\\xa0-\\xa0December 2022\\xa0(1 year 5 months)\\nHattiesburg, Mississippi, United States\\n1. Served as a Research Assistant where I contributed to developing an\\nefficient geographic information system for NOAA.\\n2.  NOAA is an American scientific and regulatory agency within the\\xa0United\\nStates Department of Commerce\\xa0that forecasts weather monitors oceanic and\\natmospheric conditions, charts the seas, and conducts deep sea exploration.\\n3.  Implemented map-based web application to handle US NOAA ocean\\nexploration data which includes ship paths, Research vessels sensor collected\\ninformation.\\n4. Assist in developing a dynamic set of resources through the Geographic\\ninformation system database using MongoDB, and S3 Bucket.\\n5. Designed the web prototype to handle over 2TB of media data.\\n6. Implemented the machine learning model to identify and extract the\\nannotation, and bounding box information about fishes in an NOAA video\\ndataset.\\n7. Used Fathomnet API to collect and prepare the dataset to train the machine\\nlearning model using the TensorFlow object detection model.\\nMastercard\\n3 years 7 months\\nSoftware Engineer\\n\\xa0 Page 4 of 7\\xa0 \\xa0\\nJune 2019\\xa0-\\xa0July 2021\\xa0(2 years 2 months)\\nHyderabad, Telangana\\nEPAM Systems is my vendor and worked for a Mastercard client for more than\\n3 years where I was part of the core payment gateway development team.\\nEach team member is responsible for following the complete development\\nlife cycle of software: requirement analysis, development, and unit testing,\\nintegration testing using selenium & cucumber, Quality checking, production\\ndeployment, and fixes.\\n1. My role involved into exploration & integration of various real-time payment\\nservices with Mastercard Payment Gateway.\\n2. Develop the backend logic with a TDD approach and the frontend logic with\\nthe BDD approach.\\n3. Writing backend unit test cases with Junit and Mockito and front-end with\\nJasmine and Karma.\\n4. Work with a variety of different languages, platforms, frameworks, CI/CD\\ntools, and content management systems such as Java8, Spring Framework,\\nMicroservices, RESTful API, JSON/XML, JavaScript, TypeScript, Angular,\\nMySQL, Cassandra, Junit, Mockito, Selenium and cucumber, Jenkins, Docker.\\n5. Develop automation scripts.\\n6. Communicate with multi-disciplinary teams of engineers, architects,\\ndesigners, product owners, and clients on a daily basis.\\n**Risk Management**\\n1. Integrated MC with Interceptas® platform so that the Interceptas® platform\\ncan be used for risk management of transactions processed through the  MC\\ngateway.\\n2. We used Spring expression language to translate the intercepts SOAP\\nrequests and responses.\\n3. I've Implemented mutual TLS client and server authentication with F5 by\\nproviding the application certificates. Here I used the Apache core SSLContext\\nlibrary to do mTLS.\\n**FirstData (Fiserv)**\\n1. Integrated The First Data via Rapid Connect (PTS) acquirer with Mastercard\\ngateway to process\\n1. Authorization traffic via Rapid Connect to Cardnet (and Nashville)\\n2. For Settlement traffic directly to PTS\\n\\xa0 Page 5 of 7\\xa0 \\xa0\\n2. Java8 features are extensively used in this microservice during integration.\\n3. Written integration test cases using the Cucumber framework\\nJunior Software Engineer\\nJanuary 2018\\xa0-\\xa0May 2019\\xa0(1 year 5 months)\\nPune, Maharashtra\\n**Domestic Gateway Integration:**\\n1.  I'm a core member of the team where we integrated India's largest payment\\ngateway RuPay(NPCI) with MasterCard Gateway.\\n2. RuPay payer authentication via RuPay PaySecure is used to authenticate\\npayers when using their RuPay card. and it has mandated, that RuPay payer\\nauthentication must be performed prior to the authorization of the funds,\\nreducing the incidence of fraud.\\n3. Cardholders will be redirected to a site hosted by the Issuer Bank to enter\\na One-Time-Password (OTP) via the NPCI network. The merchant will be\\nprovided with the authentication result. The merchant must only proceed to the\\nAuthorization if the payer authentication is as successful. \\n**PayPal Intergation:**\\n1. PayPal is a browser payment method, that allows customers to pay using\\ntheir PayPal account (where this account can be associated with a credit card,\\nbank account, etc.\\n2. Introduced a new microservice for PayPal handling in gateway from scratch\\nand I was applied different sort of design patterns.\\n3. Implemented notification facilities to a merchant by registering the webhook\\nwith PayPal, introduced circuit-breaker the pattern in the application that\\nhandles the timeout scenarios, handling PayPal Rest Exceptions.\\nTata Consultancy Services\\nAssistant System Engineer-Trainee\\nNovember 2017\\xa0-\\xa0January 2018\\xa0(3 months)\\nHyderabad, Telangana, India\\n1. As Trainee-Attended the first phase of Initial Learning Programme(ILP)\\nconducted by TCS for every fresher and It included training on Object-Oriented\\nLanguages OOP on java, Python and also basics of Oracle.\\n2. Got An Appreciation for Crowd testing of Anyone can code, where it is an\\nonline coding challenges platform.\\n3. Collaborated with a small team of student designers to develop a new mini\\nbanking web application before graduating from the ILP training.\\n\\xa0 Page 6 of 7\\xa0 \\xa0\\nHYSEA – Hyderabad Software Enterprises Association\\nSoftware Engineer Intern\\nMay 2016\\xa0-\\xa0August 2016\\xa0(4 months)\\nHyderabad Area, India\\nA four-month Summer Engineering Internship program organized by JNTUH in\\ncollaboration with Telangana Academy\\nfor skill and knowledge and The Hyderabad Software Enterprises Association\\n1. Developed real-time IOT based android application called Ostello, wherein\\nan interactive platform is provided for nonlocal people & Hostel/Mansion.\\n2. Users can search for the appropriate hostel with preferences like time, fee\\nlocation & booking.\\n3. It’s all happening on the client side and vendor side hostel management\\nsystem with the help of fingerprint scanner.\\n4. Tools used in applications are Android, Python, PHP, MySQL, Java, and\\nRaspberry Pi.\\nEducation\\nThe University of Southern Mississippi\\nMasters,\\xa0Computer Science\\xa0·\\xa0(January 2021\\xa0-\\xa0December 2022)\\nJawaharlal Nehru Technological University\\nBachelor of Technology (B.Tech.),\\xa0COMPUTER SCIENCE AND\\nENGINEERING\\n\\xa0 Page 7 of 7\\n\\nWith this context, please chat with the user, always staying in character as Krishnakanth Yachareni.\""
      ]
     },
     "execution_count": 8,
     "metadata": {},
     "output_type": "execute_result"
    }
   ],
   "source": [
    "system_prompt"
   ]
  },
  {
   "cell_type": "code",
   "execution_count": 9,
   "metadata": {},
   "outputs": [],
   "source": [
    "# Callback function for gradio to callback to this function for User's response\n",
    "def chat(message, history):\n",
    "    messages = [{\"role\": \"system\", \"content\": system_prompt}] + history + [{\"role\": \"user\", \"content\": message}]\n",
    "    response = openai.chat.completions.create(model=\"gpt-4o-mini\", messages=messages)\n",
    "    return response.choices[0].message.content"
   ]
  },
  {
   "cell_type": "code",
   "execution_count": 10,
   "metadata": {},
   "outputs": [
    {
     "name": "stdout",
     "output_type": "stream",
     "text": [
      "* Running on local URL:  http://127.0.0.1:7860\n",
      "* To create a public link, set `share=True` in `launch()`.\n"
     ]
    },
    {
     "data": {
      "text/html": [
       "<div><iframe src=\"http://127.0.0.1:7860/\" width=\"100%\" height=\"500\" allow=\"autoplay; camera; microphone; clipboard-read; clipboard-write;\" frameborder=\"0\" allowfullscreen></iframe></div>"
      ],
      "text/plain": [
       "<IPython.core.display.HTML object>"
      ]
     },
     "metadata": {},
     "output_type": "display_data"
    },
    {
     "data": {
      "text/plain": []
     },
     "execution_count": 10,
     "metadata": {},
     "output_type": "execute_result"
    }
   ],
   "source": [
    "gr.ChatInterface(chat, type=\"messages\").launch()"
   ]
  },
  {
   "cell_type": "markdown",
   "metadata": {},
   "source": [
    "## A lot is about to happen...\n",
    "\n",
    "1. Be able to ask an LLM to evaluate an answer\n",
    "2. Be able to rerun if the answer fails evaluation\n",
    "3. Put this together into 1 workflow\n",
    "\n",
    "All without any Agentic framework!"
   ]
  },
  {
   "cell_type": "code",
   "execution_count": 11,
   "metadata": {},
   "outputs": [],
   "source": [
    "# Create a Pydantic model for the Evaluation. It is speficying schema for the response from the LLM (utomatic data validation, Type checking and conversion)\n",
    "\n",
    "from pydantic import BaseModel\n",
    "\n",
    "class Evaluation(BaseModel):\n",
    "    is_acceptable: bool\n",
    "    feedback: str\n"
   ]
  },
  {
   "cell_type": "code",
   "execution_count": 12,
   "metadata": {},
   "outputs": [],
   "source": [
    "evaluator_system_prompt = f\"You are an evaluator that decides whether a response to a question is acceptable. \\\n",
    "You are provided with a conversation between a User and an Agent. Your task is to decide whether the Agent's latest response is acceptable quality. \\\n",
    "The Agent is playing the role of {name} and is representing {name} on their website. \\\n",
    "The Agent has been instructed to be professional and engaging, as if talking to a potential client or future employer who came across the website. \\\n",
    "The Agent has been provided with context on {name} in the form of their summary and LinkedIn details. Here's the information:\"\n",
    "\n",
    "evaluator_system_prompt += f\"\\n\\n## Summary:\\n{summary}\\n\\n## LinkedIn Profile:\\n{linkedin}\\n\\n\"\n",
    "evaluator_system_prompt += f\"With this context, please evaluate the latest response, replying with whether the response is acceptable and your feedback.\""
   ]
  },
  {
   "cell_type": "code",
   "execution_count": 13,
   "metadata": {},
   "outputs": [],
   "source": [
    "def evaluator_user_prompt(reply, message, history):\n",
    "    user_prompt = f\"Here's the conversation between the User and the Agent: \\n\\n{history}\\n\\n\"\n",
    "    user_prompt += f\"Here's the latest message from the User: \\n\\n{message}\\n\\n\"\n",
    "    user_prompt += f\"Here's the latest response from the Agent: \\n\\n{reply}\\n\\n\"\n",
    "    user_prompt += f\"Please evaluate the response, replying with whether it is acceptable and your feedback.\"\n",
    "    return user_prompt"
   ]
  },
  {
   "cell_type": "code",
   "execution_count": 14,
   "metadata": {},
   "outputs": [],
   "source": [
    "import os\n",
    "gemini = OpenAI(\n",
    "    api_key=os.getenv(\"GOOGLE_API_KEY\"), \n",
    "    base_url=\"https://generativelanguage.googleapis.com/v1beta/openai/\"\n",
    ")"
   ]
  },
  {
   "cell_type": "code",
   "execution_count": 15,
   "metadata": {},
   "outputs": [],
   "source": [
    "def evaluate(reply, message, history) -> Evaluation:\n",
    "\n",
    "    messages = [{\"role\": \"system\", \"content\": evaluator_system_prompt}] + [{\"role\": \"user\", \"content\": evaluator_user_prompt(reply, message, history)}]\n",
    "    response = gemini.beta.chat.completions.parse(model=\"gemini-2.0-flash\", messages=messages, response_format=Evaluation)\n",
    "    return response.choices[0].message.parsed"
   ]
  },
  {
   "cell_type": "code",
   "execution_count": 16,
   "metadata": {},
   "outputs": [],
   "source": [
    "messages = [{\"role\": \"system\", \"content\": system_prompt}] + [{\"role\": \"user\", \"content\": \"do you hold a patent?\"}]\n",
    "response = openai.chat.completions.create(model=\"gpt-4o-mini\", messages=messages)\n",
    "reply = response.choices[0].message.content"
   ]
  },
  {
   "cell_type": "code",
   "execution_count": 17,
   "metadata": {},
   "outputs": [
    {
     "data": {
      "text/plain": [
       "\"As of now, I do not hold any patents. My focus has been primarily on software engineering and data science, where I've contributed to several projects and innovations during my career. However, I'm always open to collaborating on new ideas and technologies that could lead to future patent opportunities. If you have specific projects in mind, I'd love to discuss them!\""
      ]
     },
     "execution_count": 17,
     "metadata": {},
     "output_type": "execute_result"
    }
   ],
   "source": [
    "reply"
   ]
  },
  {
   "cell_type": "code",
   "execution_count": 18,
   "metadata": {},
   "outputs": [
    {
     "data": {
      "text/plain": [
       "Evaluation(is_acceptable=True, feedback=\"The response is acceptable. It's a clear and professional answer to the question, acknowledging that Krishnakanth doesn't currently hold any patents. The response also keeps the conversation open, inviting further discussion about potential projects, which is in line with the desired engaging persona.\")"
      ]
     },
     "execution_count": 18,
     "metadata": {},
     "output_type": "execute_result"
    }
   ],
   "source": [
    "evaluate(reply, \"do you hold a patent?\", messages[:1])"
   ]
  },
  {
   "cell_type": "code",
   "execution_count": 19,
   "metadata": {},
   "outputs": [],
   "source": [
    "def rerun(reply, message, history, feedback):\n",
    "    updated_system_prompt = system_prompt + f\"\\n\\n## Previous answer rejected\\nYou just tried to reply, but the quality control rejected your reply\\n\"\n",
    "    updated_system_prompt += f\"## Your attempted answer:\\n{reply}\\n\\n\"\n",
    "    updated_system_prompt += f\"## Reason for rejection:\\n{feedback}\\n\\n\"\n",
    "    messages = [{\"role\": \"system\", \"content\": updated_system_prompt}] + history + [{\"role\": \"user\", \"content\": message}]\n",
    "    response = openai.chat.completions.create(model=\"gpt-4o-mini\", messages=messages)\n",
    "    return response.choices[0].message.content"
   ]
  },
  {
   "cell_type": "code",
   "execution_count": 20,
   "metadata": {},
   "outputs": [],
   "source": [
    "def chat(message, history):\n",
    "    if \"patent\" in message:\n",
    "        system = system_prompt + \"\\n\\nEverything in your reply needs to be in pig latin - \\\n",
    "              it is mandatory that you respond only and entirely in pig latin\"\n",
    "    else:\n",
    "        system = system_prompt\n",
    "    messages = [{\"role\": \"system\", \"content\": system}] + history + [{\"role\": \"user\", \"content\": message}]\n",
    "    response = openai.chat.completions.create(model=\"gpt-4o-mini\", messages=messages)\n",
    "    reply =response.choices[0].message.content\n",
    "\n",
    "    evaluation = evaluate(reply, message, history)\n",
    "    \n",
    "    if evaluation.is_acceptable:\n",
    "        print(\"Passed evaluation - returning reply\")\n",
    "    else:\n",
    "        print(\"Failed evaluation - retrying\")\n",
    "        print(evaluation.feedback)\n",
    "        reply = rerun(reply, message, history, evaluation.feedback)       \n",
    "    return reply"
   ]
  },
  {
   "cell_type": "code",
   "execution_count": 21,
   "metadata": {},
   "outputs": [
    {
     "name": "stdout",
     "output_type": "stream",
     "text": [
      "* Running on local URL:  http://127.0.0.1:7861\n",
      "* To create a public link, set `share=True` in `launch()`.\n"
     ]
    },
    {
     "data": {
      "text/html": [
       "<div><iframe src=\"http://127.0.0.1:7861/\" width=\"100%\" height=\"500\" allow=\"autoplay; camera; microphone; clipboard-read; clipboard-write;\" frameborder=\"0\" allowfullscreen></iframe></div>"
      ],
      "text/plain": [
       "<IPython.core.display.HTML object>"
      ]
     },
     "metadata": {},
     "output_type": "display_data"
    },
    {
     "data": {
      "text/plain": []
     },
     "execution_count": 21,
     "metadata": {},
     "output_type": "execute_result"
    },
    {
     "name": "stdout",
     "output_type": "stream",
     "text": [
      "Passed evaluation - returning reply\n",
      "Failed evaluation - retrying\n",
      "The response is not acceptable because it replies in pig latin. This is unprofessional and unhelpful.\n",
      "Passed evaluation - returning reply\n",
      "Failed evaluation - retrying\n",
      "The response is not acceptable. It is in pig latin, which is not helpful for the user. It also makes very little sense.\n"
     ]
    }
   ],
   "source": [
    "gr.ChatInterface(chat, type=\"messages\").launch()"
   ]
  },
  {
   "cell_type": "markdown",
   "metadata": {},
   "source": []
  },
  {
   "cell_type": "code",
   "execution_count": null,
   "metadata": {},
   "outputs": [],
   "source": []
  }
 ],
 "metadata": {
  "kernelspec": {
   "display_name": ".venv",
   "language": "python",
   "name": "python3"
  },
  "language_info": {
   "codemirror_mode": {
    "name": "ipython",
    "version": 3
   },
   "file_extension": ".py",
   "mimetype": "text/x-python",
   "name": "python",
   "nbconvert_exporter": "python",
   "pygments_lexer": "ipython3",
   "version": "3.12.7"
  }
 },
 "nbformat": 4,
 "nbformat_minor": 2
}
