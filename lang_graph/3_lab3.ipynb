{
 "cells": [
  {
   "cell_type": "markdown",
   "metadata": {},
   "source": [
    "## Create AI Web Assistants: Playwright, LangChain & Gradio Implementation\n",
    "\n",
    "This is the start of an AWESOME project! Really simple and very effective."
   ]
  },
  {
   "cell_type": "markdown",
   "metadata": {},
   "source": [
    "### First - a heads up for Windows PC users\n",
    "\n",
    "While executing this notebook, you might hit a problem with the Playwright browser raising a NotImplementedError.\n",
    "\n",
    "This should work when we move to python modules, but it can cause problems in Windows in a notebook.\n",
    "\n",
    "If you it this error and would like to run the notebook, you need to make a small change which seems quite hacky!\n",
    "\n",
    "1. Right click in `.venv` in the File Explorer on the left and select \"Find in folder\"\n",
    "2. Search for `asyncio.set_event_loop_policy(WindowsSelectorEventLoopPolicy())`  \n",
    "3. That code should be found in a line of code in a file called `kernelapp.py`\n",
    "4. Comment out that line of code in that file! And save the file. (And in fact, student William Lapa tells me that he needed to comment out the entire else statement that this line is part of.)\n",
    "5. Restart the kernel by pressing the \"Restart\" button above\n",
    "\n",
    "Thank you to student Nicolas for finding this, and to Yaki, Zibin and Bhaskar for confirming that this worked for them!"
   ]
  },
  {
   "cell_type": "code",
   "execution_count": 1,
   "metadata": {},
   "outputs": [],
   "source": [
    "from typing import Annotated\n",
    "from typing_extensions import TypedDict\n",
    "from langgraph.graph import StateGraph, START\n",
    "from langgraph.graph.message import add_messages\n",
    "from dotenv import load_dotenv\n",
    "from IPython.display import Image, display\n",
    "import gradio as gr\n",
    "from langgraph.prebuilt import ToolNode, tools_condition\n",
    "import requests\n",
    "import os\n",
    "from langchain.agents import Tool\n",
    "\n",
    "from langchain_openai import ChatOpenAI\n",
    "from langgraph.checkpoint.memory import MemorySaver"
   ]
  },
  {
   "cell_type": "code",
   "execution_count": 2,
   "metadata": {},
   "outputs": [
    {
     "data": {
      "text/plain": [
       "True"
      ]
     },
     "execution_count": 2,
     "metadata": {},
     "output_type": "execute_result"
    }
   ],
   "source": [
    "load_dotenv(override=True)"
   ]
  },
  {
   "cell_type": "markdown",
   "metadata": {},
   "source": [
    "### Asynchronous LangGraph\n",
    "\n",
    "To run a tool:  \n",
    "Sync: `tool.run(inputs)`  \n",
    "Async: `await tool.arun(inputs)`\n",
    "\n",
    "To invoke the graph:  \n",
    "Sync: `graph.invoke(state)`  \n",
    "Async: `await graph.ainvoke(state)`"
   ]
  },
  {
   "cell_type": "code",
   "execution_count": 3,
   "metadata": {},
   "outputs": [],
   "source": [
    "class State(TypedDict):\n",
    "    \n",
    "    messages: Annotated[list, add_messages]\n",
    "\n",
    "\n",
    "graph_builder = StateGraph(State)"
   ]
  },
  {
   "cell_type": "code",
   "execution_count": 4,
   "metadata": {},
   "outputs": [],
   "source": [
    "pushover_token = os.getenv(\"PUSHOVER_TOKEN\")\n",
    "pushover_user = os.getenv(\"PUSHOVER_USER\")\n",
    "pushover_url = \"https://api.pushover.net/1/messages.json\"\n",
    "\n",
    "def push(text: str):\n",
    "    \"\"\"Send a push notification to the user\"\"\"\n",
    "    requests.post(pushover_url, data = {\"token\": pushover_token, \"user\": pushover_user, \"message\": text})\n",
    "\n",
    "tool_push = Tool(\n",
    "        name=\"send_push_notification\",\n",
    "        func=push,\n",
    "        description=\"useful for when you want to send a push notification\"\n",
    "    )"
   ]
  },
  {
   "cell_type": "markdown",
   "metadata": {},
   "source": [
    "### Next: Install Playwright\n",
    "\n",
    "On Windows and MacOS:  \n",
    "`playwright install`\n",
    "\n",
    "On Linux:  \n",
    "`playwright install —with-reps chromium`"
   ]
  },
  {
   "cell_type": "markdown",
   "metadata": {},
   "source": [
    "### Introducing nest_asyncio\n",
    "\n",
    "Python async code only allows for one \"event loop\" processing aynchronous events.\n",
    "\n",
    "The `nest_asyncio` library patches this, and is used for special situations, if you need to run a nested event loop.\n",
    "\n"
   ]
  },
  {
   "cell_type": "code",
   "execution_count": 8,
   "metadata": {},
   "outputs": [],
   "source": [
    "import nest_asyncio\n",
    "nest_asyncio.apply()"
   ]
  },
  {
   "cell_type": "markdown",
   "metadata": {},
   "source": [
    "### The LangChain community\n",
    "\n",
    "One of the remarkable things about LangChain is the rich community around it.\n",
    "\n",
    "Check this out:\n"
   ]
  },
  {
   "cell_type": "code",
   "execution_count": 9,
   "metadata": {},
   "outputs": [],
   "source": [
    "from langchain_community.agent_toolkits import PlayWrightBrowserToolkit\n",
    "from langchain_community.tools.playwright.utils import create_async_playwright_browser\n",
    "\n",
    "async_browser =  create_async_playwright_browser(headless=False)  # headful mode\n",
    "toolkit = PlayWrightBrowserToolkit.from_browser(async_browser=async_browser)\n",
    "tools = toolkit.get_tools()"
   ]
  },
  {
   "cell_type": "code",
   "execution_count": 10,
   "metadata": {},
   "outputs": [
    {
     "name": "stdout",
     "output_type": "stream",
     "text": [
      "click_element=async_browser=<Browser type=<BrowserType name=chromium executable_path=/Users/krishna/Library/Caches/ms-playwright/chromium-1169/chrome-mac/Chromium.app/Contents/MacOS/Chromium> version=136.0.7103.25>\n",
      "navigate_browser=async_browser=<Browser type=<BrowserType name=chromium executable_path=/Users/krishna/Library/Caches/ms-playwright/chromium-1169/chrome-mac/Chromium.app/Contents/MacOS/Chromium> version=136.0.7103.25>\n",
      "previous_webpage=async_browser=<Browser type=<BrowserType name=chromium executable_path=/Users/krishna/Library/Caches/ms-playwright/chromium-1169/chrome-mac/Chromium.app/Contents/MacOS/Chromium> version=136.0.7103.25>\n",
      "extract_text=async_browser=<Browser type=<BrowserType name=chromium executable_path=/Users/krishna/Library/Caches/ms-playwright/chromium-1169/chrome-mac/Chromium.app/Contents/MacOS/Chromium> version=136.0.7103.25>\n",
      "extract_hyperlinks=async_browser=<Browser type=<BrowserType name=chromium executable_path=/Users/krishna/Library/Caches/ms-playwright/chromium-1169/chrome-mac/Chromium.app/Contents/MacOS/Chromium> version=136.0.7103.25>\n",
      "get_elements=async_browser=<Browser type=<BrowserType name=chromium executable_path=/Users/krishna/Library/Caches/ms-playwright/chromium-1169/chrome-mac/Chromium.app/Contents/MacOS/Chromium> version=136.0.7103.25>\n",
      "current_webpage=async_browser=<Browser type=<BrowserType name=chromium executable_path=/Users/krishna/Library/Caches/ms-playwright/chromium-1169/chrome-mac/Chromium.app/Contents/MacOS/Chromium> version=136.0.7103.25>\n"
     ]
    }
   ],
   "source": [
    "for tool in tools:\n",
    "    print(f\"{tool.name}={tool}\")"
   ]
  },
  {
   "cell_type": "code",
   "execution_count": 11,
   "metadata": {},
   "outputs": [],
   "source": [
    "tool_dict = {tool.name:tool for tool in tools}\n",
    "\n",
    "navigate_tool = tool_dict.get(\"navigate_browser\")\n",
    "extract_text_tool = tool_dict.get(\"extract_text\")\n",
    "\n",
    "    \n",
    "await navigate_tool.arun({\"url\": \"https://www.cnn.com\"})\n",
    "text = await extract_text_tool.arun({})"
   ]
  },
  {
   "cell_type": "code",
   "execution_count": 12,
   "metadata": {},
   "outputs": [
    {
     "name": "stdout",
     "output_type": "stream",
     "text": [
      "Breaking News, Latest News and Videos | CNN CNN values your feedback\n",
      "1. How relevant is this ad to you? 2. Did you encounter any technical\n",
      "issues? No Video player was slow to load content Video content never\n",
      "loaded Ad froze or did not finish loading Video content did not start\n",
      "after ad Audio on ad was too loud Other issues Ad never loaded Ad\n",
      "prevented/slowed the page from loading Content moved around while ad\n",
      "loaded Ad was repetitive to ads I've seen previously Other issues\n",
      "Cancel Submit Thank You! Your effort and contribution in providing\n",
      "this feedback is much\n",
      "appreciated. Close Ad Feedback Close icon US World Politics Business\n",
      "Health Entertainment Style Travel Sports Science Climate Weather\n",
      "Ukraine-Russia War Israel-Hamas War Underscored Games More US World\n",
      "Politics Business Health Entertainment Style Travel Sports Science\n",
      "Climate Weather Ukraine-Russia War Israel-Hamas War Underscored Games\n",
      "Watch Listen Live TV Subscribe Sign in My Account Settings Newsletters\n",
      "Topics you follow Sign out Your CNN account Sign in to your CNN\n",
      "account Sign in My Account Settings Newsletters Topics you follow Sign\n",
      "out Your CNN account Sign in to your CNN account Live TV Listen Watch\n",
      "Edition US International Arabic Español Edition US International\n",
      "Arabic Español US Crime + Justice World Africa Americas Asia Australia\n",
      "China Europe India Middle East United Kingdom Politics Trump Facts\n",
      "First CNN Polls 2025 Elections Business Tech Media Calculators Videos\n",
      "Markets Pre-markets After-Hours Fear & Greed Investing Markets Now\n",
      "Nightcap Health Life, But Better Fitness Food Sleep Mindfulness\n",
      "Relationships Entertainment Movies Television Celebrity Tech Innovate\n",
      "Foreseeable Future Mission: Ahead Work Transformed Innovative Cities\n",
      "Style Arts Design Fashion Architecture Luxury Beauty Video Travel\n",
      "Destinations Food & Drink Stay Videos Sports Pro Football College\n",
      "Football Basketball Baseball Soccer Olympics Hockey Science Space Life\n",
      "Unearthed Climate Solutions Weather Weather Video Climate Ukraine-\n",
      "Russia War Israel-Hamas War Watch Live TV CNN Headlines CNN Shorts\n",
      "Shows A-Z CNN10 CNN Max CNN TV Schedules FlashDocs Listen CNN 5 Things\n",
      "Chasing Life with Dr. Sanjay Gupta The Assignment with Audie Cornish\n",
      "One Thing Tug of War CNN Political Briefing The Axe Files All There Is\n",
      "with Anderson Cooper All CNN Audio podcasts CNN Underscored\n",
      "Electronics Fashion Beauty Health & Fitness Home Reviews Deals Gifts\n",
      "Travel Outdoors Pets Games Daily Crossword Jumble Crossword Sudoblock\n",
      "Sudoku 5 Things Quiz About CNN Subscribe Photos Investigations CNN\n",
      "Profiles CNN Leadership CNN Newsletters Work for CNN Follow CNN Live\n",
      "Updates Israel-Iran conflict Trending NYC comptroller Brad Lander\n",
      "‘Diddy’s’ umbrella holder Stanley Cup final Iran’s Fordow nuclear site\n",
      "Live Updates 3 min ago Smoke rises following a missile attack from\n",
      "Iran, in Herzliya, Israel, June 17, 2025. REUTERS/Ronen Zvulun\n",
      "TPX IMAGES OF THE DAY Ronen Zvulun/Reuters Trump weighs US options as\n",
      "Israel-Iran conflict enters sixth day 3 min ago Analysis: Trump may be\n",
      "on the brink of a huge gamble 16 min ago Israel launches program to\n",
      "repatriate citizens stranded abroad by flight cancellations 17 min ago\n",
      "Who is Ayatollah Ali Khamenei, Iran’s hardline leader who Trump called\n",
      "an “easy target”? 14 min ago Iran's supreme leader issues warning to\n",
      "Israel as Trump warms to US military action. Here's the latest 2 hr 42\n",
      "min ago CNN's Nick Paton Walsh reports on how the US could get\n",
      "involved in the conflict 3 hr 1 min ago Iranian supreme leader warns:\n",
      "\"The battle begins\" 3 hr 43 min ago Hear what Iranian residents are\n",
      "texting to CNN as Israeli strikes hit Iran 3 hr 18 min ago WhatsApp\n",
      "responds to Iranian government's warning to residents to stop using\n",
      "the app 4 hr 11 min ago Iranian news outlet claims Iran has launched\n",
      "Fattah missiles toward Israel 4 hr 26 min ago Jordanian air defenses\n",
      "intercept Iranian rockets, CNN video shows 4 hr 49 min ago US embassy\n",
      "in Jerusalem to close for 3 days due to the escalating Israel-Iran\n",
      "conflict 5 hr 11 min ago Israel says it is carrying out strikes in\n",
      "Tehran 5 hr 6 min ago Israel issues evacuation warning for a district\n",
      "in Tehran 5 hr 2 min ago Air defenses in Tehran repelling projectiles,\n",
      "local news agency reports 5 hr 18 min ago Catch up: Trump considers\n",
      "role of US in Israel-Iran conflict as countries trade strikes for\n",
      "fifth day 4 hr 50 min ago Israel detects more missiles from Iran 5 hr\n",
      "30 min ago Trump and Netanyahu spoke on the phone, White House\n",
      "official says 5 hr 30 min ago Seeking Iranian regime change through\n",
      "military means \"would lead to chaos,\" Macron says 5 hr 17 min ago\n",
      "Missile defense systems provided by US are helping save lives in\n",
      "Israel, ambassador says See all updates ( 19 +) • Video 0:44 A woman\n",
      "gave birth to triplets Monday in Israel’s Rambam hospital, one of\n",
      "several in the country that have moved some operations underground as\n",
      "Iranian strikes hit the city of Haifa this week, according to Reuters.\n",
      "Reuters Video ‘More challenging to manage this case’: Doctor on\n",
      "triplets born in underground hospital 0:44 Video What Iranian\n",
      "residents are texting to CNN as strikes hit 1:33 Israel’s air defense\n",
      "systems, explained and visualized Iran's supreme leader warns, 'The\n",
      "battle begins' Show all • Live Updates Live Updates Wisam\n",
      "Hashlamoun/Anadolu/Getty Images Live Updates Israel and Iran are\n",
      "trading strikes for a sixth day. Trump demands Iran’s ‘unconditional\n",
      "surrender’ as he weighs further US involvement. Taking on Israel’s\n",
      "greatest foe has banished Netanyahu’s political troubles Analysis The\n",
      "US may be headed into another Middle East war – and no one is talking\n",
      "about how it ends GOP hawks clash with MAGA isolationists as Trump\n",
      "looks at next steps in Iran Analysis As Trump considers US strikes on\n",
      "Iran, polls suggest Americans may not be into it CNN / Google Earth\n",
      "Iran’s secretive, heavily guarded nuclear site that’s near-impossible\n",
      "to destroy Al Drago/Getty Images Inside Trump’s decision to bail on\n",
      "the G7 early Trump increasingly warm to using US military to strike in\n",
      "Iran, sources say Video This is how the US could get involved in the\n",
      "Israel-Iran conflict 2:14 Sen. Mike Lee deletes posts about Minnesota\n",
      "shootings Show all Kevin Dietsch/Getty Images The Republican senator’s\n",
      "posts ignited a firestorm of criticism, including from his own Senate\n",
      "Democratic colleagues ‘We’re not safe’: US lawmakers demand more be\n",
      "done after political violence in Minnesota For Subscribers The\n",
      "Minnesota suspect’s life was ordinary. Then an abrupt change Boelter\n",
      "bought e-bike and car after allegedly shooting lawmakers Video ‘Truly\n",
      "chilling’: Lawmaker on Minnesota shooting suspect’s list speaks out\n",
      "2:03 Lynne Sladky/AP Florida Panthers win second straight Stanley Cup\n",
      "in a 5-1 romp, led by Sam Reinhart’s four goals NYC Comptroller Press\n",
      "Secretary New York City comptroller and mayoral candidate Brad Lander\n",
      "released after arrest by immigration officers inside court For\n",
      "Subscribers ‘The lights were on all night’: Court filings reveal\n",
      "details inside border facilities holding migrant families Play Federal\n",
      "court hears Trump's appeal to fight hush money trial conviction -\n",
      "Source: CNN Watch the latest CNN Headlines Dave Kotinsky/Getty Images\n",
      "Anne Burrell, popular Food Network chef, dead at 55 Anna\n",
      "Moneymaker/Getty Images/File Homeland Security Secretary Kristi Noem\n",
      "taken to DC-area hospital after allergic reaction • Video 2:03 Senate\n",
      "TV Video Padilla speaks out after clash with Noem’s security 2:03 More\n",
      "top stories • Analysis Analysis Atta Kenare/AFP/Getty Images Analysis\n",
      "Even if Russia loses another Mideast ally, it stands to profit from\n",
      "the chaos Marijuana use dramatically increases risk of dying from\n",
      "heart attacks and stroke, large study finds Judge says Trump\n",
      "administration can’t limit passport sex markers for many transgender,\n",
      "nonbinary people Video Zohran Mamdani responds to NYT not endorsing\n",
      "candidate 2:13 Jay Jones wins Democratic nomination for Virginia\n",
      "attorney general Video He’s one of the 100 or so people in the world\n",
      "to have ever had a hand transplant 2:37 Senate passes first-of-its-\n",
      "kind cryptocurrency legislation For Subscribers A new kind of doomsday\n",
      "prepper emerged during Trump’s rise to power The Motley Fool Hands\n",
      "down one of the best cards for good credit Around the world CNN ‘We\n",
      "will block the canals’: Young Venetians plan to disrupt the Bezos\n",
      "wedding Video CNN analysis explores cause of deadly Dominican\n",
      "nightclub roof collapse 3:36 US man arrested in Greece after bodies of\n",
      "infant and her mother found in Roman park Sean 'Diddy' Combs trial\n",
      "Roncen Patrick/Sygma via Getty Images Remember Fonzworth Bentley?\n",
      "Here’s what happened after he moved on from holding umbrellas for Sean\n",
      "‘Diddy’ Combs Podcast Why juror No. 6 is out Jury in Sean ‘Diddy’\n",
      "Combs’ trial hears about flurry of calls and texts after 2016 hotel\n",
      "altercation Ad Feedback Ad Feedback CNN UNDERSCORED Mike Andronico/CNN\n",
      "Underscored I found the 13 best Apple deals you can shop ahead of\n",
      "Amazon Prime Day Jun 17, 2025 Jillian Tracy/CNN Underscored Yes,\n",
      "you’ll want to have a cooling towel handy this summer — here are our\n",
      "favorites May 1, 2025 Maxwell Shukuya/CNN Underscored I’ve been\n",
      "ordering from Backcountry for a decade. Here are my discounted summer\n",
      "faves Jun 17, 2025 Ad Feedback Sports spotlight Alex Grimm/Getty\n",
      "Images Why Chelsea’s Club World Cup match against Los Angeles FC had\n",
      "nearly 50,000 empty seats Bruce Bennett/Getty Images With ‘Pink Pony\n",
      "Club’ hype at their backs, Oilers push to bring the Stanley Cup home\n",
      "to Canada Morgan Givens/NBAE/Getty Images Thunder on the brink of\n",
      "championship glory after fending off Pacers’ comeback push to win Game\n",
      "5 of the NBA Finals Check these out aphotostory/iStockphoto/Getty\n",
      "Images Viral videos prompt mass cleanup of caves near China’s famed\n",
      "‘Avatar’ mountains Shana Goffredi First methane-powered sea spiders\n",
      "found crawling on the ocean floor Paul Beaty/AP Steve Carell turns\n",
      "Northwestern commencement address into a dance party • Video 2:38 BBC\n",
      "/ CNN Video Darcy would have gone in naked. Colin Firth did something\n",
      "groundbreaking instead 2:38 For Subscribers • For Subscribers For\n",
      "Subscribers Nikos Frazier/Omaha World-Herald/AP For Subscribers The\n",
      "ICE raid in Nebraska that shocked officials and split families • For\n",
      "Subscribers For Subscribers Zhang Huiquan/People's Liberation Army\n",
      "Navy For Subscribers China’s aircraft carriers send message in the\n",
      "open Pacific for the first time • For Subscribers For Subscribers\n",
      "Alberto Mier/CNN/Getty images For Subscribers Acting US attorney\n",
      "endorsed notion of criminal investigations into Trump’s perceived\n",
      "political enemies Ad Feedback Ad Feedback CNN Underscored Best-in-\n",
      "class Sophie Shaw/CNN Underscored 6 dermatologists share the best face\n",
      "washes for sensitive skin Unlike AirPods, these sleep headphones won’t\n",
      "hurt your ears at night Amazon just announced Prime Day. These are the\n",
      "dates and the best early deals Our favorite Yeti coolers and tumblers\n",
      "just went on sale in tons of colors Do your feet underpronate? Here\n",
      "are the most comfortable shoes that’ll make walking easier Expert-\n",
      "backed guides Show all Kai Burkhardt/CNN Underscored I tested 12 pairs\n",
      "of hiking sandals. These 2 were comfortable, grippy and supportive\n",
      "Sunglasses don’t need to be expensive to be high-quality. So we found\n",
      "16 of the best ones The 8 best heated eye masks for dry eye relief,\n",
      "according to experts Mosquitoes don’t stand a chance this summer with\n",
      "this repeller that actually works I tested this bestselling cooling\n",
      "Columbia dress, and now I can’t survive summer without it Editors'\n",
      "picks Michelle Rae Uy/CNN Underscored Tired of overpacking? These tiny\n",
      "travel gadgets are surprisingly useful Forget the expensive air\n",
      "conditioner. Try one of these powerful cooling fans instead We tested\n",
      "12 nonstick pans. Only 2 are worth buying Yes, a car sun shade does\n",
      "make a difference in hot weather. Here are the best to buy Chase\n",
      "Sapphire Reserve is making big changes, including a $795 annual price\n",
      "hike US Show all AP Virginia will elect its first female governor this\n",
      "fall. Neither candidate is talking much about it R. Kelly hospitalized\n",
      "last week after drugging by prison staff, his attorneys claim He\n",
      "pointed a rifle toward a ‘No Kings’ crowd but didn’t shoot, witnesses\n",
      "said. Then, he got shot — and is now accused of murder Judge extends\n",
      "order suspending Trump’s block on Harvard’s incoming foreign students\n",
      "Entertainment Show all Kevin Mazur/AMA2016/WireImage/Getty Images\n",
      "Ariana Grande shares that her grandmother Marjorie ‘Nonna’ Grande has\n",
      "died Mariah Carey doesn’t believe in time and that includes her\n",
      "birthday Beyoncé pays tribute to both Paul McCartney and Stella\n",
      "McCartney for ‘Blackbird’ inspiration Brad Pitt had no trouble driving\n",
      "‘F1’ race cars. Off screen, he just tries to be ‘calm in traffic’ Ad\n",
      "Feedback PAID PARTNER CONTENT Stop Paying Interest: 18 Months of 0%\n",
      "APR Awaits CardCritics Fuel your American Dream: Get low APR until\n",
      "2027 CardCritics Space and Science Show all Melissa Weiss/CfA A long-\n",
      "standing puzzle of ‘missing’ ordinary matter in the universe may be\n",
      "solved, astronomers say 14,000-year-old mummified ‘puppies’ weren’t\n",
      "dogs at all, new research shows Reopening a 688-year-old murder case\n",
      "reveals a web of adultery and extortion in medieval England\n",
      "6,000-year-old skeletons found in Colombia have unique DNA Travel\n",
      "Show all Volha Shukaila/SOPA Images/LightRocket/Getty Images World’s\n",
      "most liveable city for 2025 revealed Museum’s CCTV shows moment\n",
      "visitor broke artwork by sitting on it ‘They would not be coming this\n",
      "summer’: US tourism businesses scramble to respond to this message\n",
      "from Canadians The unwritten rules of visiting a British pub 25 of the\n",
      "world’s best sandwiches Style Show all • Video 2:57 TPS\n",
      "Productions/Focus Features Video Why these details in Wes Anderson’s\n",
      "films matter more than you might think 2:57 Remember when Princess\n",
      "Diana wowed the Met Gala in a risqué — and secretly altered — gown?\n",
      "Video 70 years ago, this moment cemented Marilyn Monroe’s legacy as a\n",
      "Hollywood goddess 2:06 Remember when Liz Hurley wore ‘that’ dress?\n",
      "health and wellness AJ_Watt/E+/Getty Images A father’s poor mental\n",
      "health may harm his children’s development, study finds Walking more\n",
      "may prevent the leading cause of disability in the US, study says How\n",
      "to be a dad to sons today, according to experts New to the ‘Dirty\n",
      "Dozen’ list: Blackberries and potatoes More Politics Show all Andrew\n",
      "Harnik/Getty Images/File Trump nominates Jeanine Pirro for full term\n",
      "as DC’s top federal prosecutor Appeals court judges grapple with\n",
      "whether Trump unlawfully federalized members of California’s National\n",
      "Guard Bob Menendez: Rich in gold bars but poor in Trump pardons\n",
      "Trump’s pardons could have erased more than $1.3 billion in fines and\n",
      "restitution, Democrats say Business Show all Richard Drew/AP Trump’s\n",
      "sons say their new phone will be built in the US. Experts say it looks\n",
      "a lot like a phone from China Amazon says it will reduce its workforce\n",
      "as AI replaces human employees Trump will grant TikTok another\n",
      "extension in enforcement of sale-or-ban law Bill to raise the federal\n",
      "minimum wage to $15 an hour from $7.25 is back. You may be surprised\n",
      "at who’s leading the charge World Show all Fermin\n",
      "Rodriguez/NurPhoto/Getty Images Spain says April blackout was caused\n",
      "by grid failures and poor planning, not a cyberattack 16 killed in\n",
      "deadliest Russian strikes on Kyiv in almost a year Europe takes a big\n",
      "step toward banning Russian oil and gas as Ukraine war drags on\n",
      "Analysis Despite early successes in Israel’s strikes on Iran, intense\n",
      "retaliation is raising questions about Israel’s exit strategy CNN\n",
      "podcasts Show all Adobe Stock Digg’s founder on making social media\n",
      "more human again How AI might be helping your doctor treat you ‘It’s\n",
      "don’t ask, don’t tell 2.0.’: Trump’s Trans service member ban You’re\n",
      "invited to an udderly ridiculous cow wedding Kanye’s cameo in court\n",
      "Sports Show all Panthers win back-to-back Stanley Cup titles Updated\n",
      "men’s College World Series bracket Sabalenka apologizes to Coco Gauff\n",
      "Tiger’s statement on new PGA Tour CEO Updated NBA Mock Draft after\n",
      "blockbuster trade Video • Video 2:38 BBC Video How Colin Firth’s wet\n",
      "shirt in BBC’s ‘Pride and Prejudice’ sparked Austen-mania 2:38 • Video\n",
      "1:32 Lacey Russell/CNN Video Tatted, hard-rock therapist Dr. John\n",
      "Delony looks tough, but his advice for dads is straight from the heart\n",
      "1:32 • Video 2:31 CNN Video Mouth tape is a billion-dollar industry.\n",
      "Is it worth your money? 2:31 • Video 3:24 Living Assembly Video These\n",
      "scientists are trying to ‘grow’ buildings 3:24 Food and Home Buff\n",
      "Strickland / Food Network The 5 best summer appetizers Food Network\n",
      "How to grill corn on the cob with and without husks\n",
      "BaileyNurseries.com What you should be pruning in early summer Paid\n",
      "Content Paid Content Recommendations More from CNN Art and Style Noemi\n",
      "Cassanelli/CNN This artist is keeping Hong Kong’s neon heritage alive\n",
      "Christopher Polk/Penske Media/Getty Images Look of the Week: Rebecca\n",
      "Black dresses for a shotgun wedding at the AMAs in Vegas Remember When\n",
      "Stephane Cardinale/Corbis/Sygma/Getty Images Remember when Princess\n",
      "Diana wowed the Met Gala in a risqué — and secretly altered — gown? •\n",
      "Video 3:11 Mike Coppola/Getty Images North America/Getty Images Video\n",
      "Why these Met Gala moments stand out in history 3:11 Ad Feedback\n",
      "Photos Giles Clarke What life is like in Sudan, where a devastating\n",
      "crisis has changed lives forever Rebecca Noble for CNN As a gay teen,\n",
      "his dad didn’t support him. Now the pair are bringing drag shows to\n",
      "rural towns • Gallery Gallery David Swanson/Reuters Gallery The week\n",
      "in 38 photos • Gallery Gallery Phil Mccarten/UPI/Shutterstock Gallery\n",
      "Remembering Beach Boys co-founder Brian Wilson Paid Partner Content\n",
      "CNN Games + Quizzes Show all • Today's crossword Today's crossword CNN\n",
      "Today's crossword No pencil or eraser required • Sudoblock Sudoblock\n",
      "CNN Sudoblock Sudoku + Blocks = addictive tile-matching puzzle •\n",
      "Jumble Crossword Jumble Crossword CNN Jumble Crossword Test your\n",
      "smarts with this scrambled word game • Weekly news quiz Weekly news\n",
      "quiz cnn Weekly news quiz What do you remember from the week that was?\n",
      "In case you missed it Christophe Ena/AP Louvre museum shuts its doors\n",
      "as staff say they are overwhelmed For Subscribers EPA tells stunned\n",
      "staff overseeing Midwest to stop enforcing violations against fossil\n",
      "fuel companies Museum’s CCTV shows moment visitor broke artwork by\n",
      "sitting on it Supreme Court declines to hear copyright appeal that\n",
      "alleged Ed Sheeran copied Marvin Gaye song A long-standing puzzle of\n",
      "‘missing’ ordinary matter in the universe may be solved, astronomers\n",
      "say Lewis Hamilton ‘so sad’ after hitting groundhog during Canadian\n",
      "Grand Prix as George Russell claims win Union leaders Randi Weingarten\n",
      "and Lee Saunders quit DNC posts in the party’s latest dispute\n",
      "Whistleblowers shun office that’s supposed to protect them amid fears\n",
      "of Trump partisanship Despite two months of tariffs, car prices aren’t\n",
      "going up. Is now the time to buy? Subscribe Sign in My Account\n",
      "Settings Newsletters Topics you follow Sign out Your CNN account Sign\n",
      "in to your CNN account Live TV Listen Watch US Crime + Justice World\n",
      "Africa Americas Asia Australia China Europe India Middle East United\n",
      "Kingdom Politics Trump Facts First CNN Polls 2025 Elections Business\n",
      "Tech Media Calculators Videos Markets Pre-markets After-Hours Fear &\n",
      "Greed Investing Markets Now Nightcap Health Life, But Better Fitness\n",
      "Food Sleep Mindfulness Relationships Entertainment Movies Television\n",
      "Celebrity Tech Innovate Foreseeable Future Mission: Ahead Work\n",
      "Transformed Innovative Cities Style Arts Design Fashion Architecture\n",
      "Luxury Beauty Video Travel Destinations Food & Drink Stay News Videos\n",
      "Sports Pro Football College Football Basketball Baseball Soccer\n",
      "Olympics Hockey Science Space Life Unearthed Climate Solutions Weather\n",
      "Weather Video Climate Ukraine-Russia War Israel-Hamas War Watch Live\n",
      "TV CNN Headlines CNN Shorts Shows A-Z CNN10 CNN Max CNN TV Schedules\n",
      "FlashDocs Listen CNN 5 Things Chasing Life with Dr. Sanjay Gupta The\n",
      "Assignment with Audie Cornish One Thing Tug of War CNN Political\n",
      "Briefing The Axe Files All There Is with Anderson Cooper All CNN Audio\n",
      "podcasts CNN Underscored Electronics Fashion Beauty Health & Fitness\n",
      "Home Reviews Deals Gifts Travel Outdoors Pets Games Daily Crossword\n",
      "Jumble Crossword Sudoblock Sudoku 5 Things Quiz About CNN Subscribe\n",
      "Photos Investigations CNN Profiles CNN Leadership CNN Newsletters Work\n",
      "for CNN Watch Listen Live TV Follow CNN Subscribe Sign in My Account\n",
      "Settings Newsletters Topics you follow Sign out Your CNN account Sign\n",
      "in to your CNN account Terms of Use Privacy Policy Cookie Settings Ad\n",
      "Choices Accessibility & CC About Subscribe Newsletters Transcripts\n",
      "Help Center © 2025 Cable News Network. A Warner Bros. Discovery\n",
      "Company. All Rights Reserved. CNN Sans ™ & © 2016 Cable News Network.\n",
      "Privacy Policy For privacy options, please see our privacy policy:\n",
      "https://www.cnn.com/privacy . Back Button Cookie List Search Icon\n",
      "Filter Icon Clear checkbox label label Apply Cancel Consent\n",
      "Leg.Interest checkbox label label checkbox label label checkbox label\n",
      "label Close\n"
     ]
    }
   ],
   "source": [
    "import textwrap\n",
    "print(textwrap.fill(text))"
   ]
  },
  {
   "cell_type": "code",
   "execution_count": 13,
   "metadata": {},
   "outputs": [],
   "source": [
    "all_tools = tools + [tool_push]"
   ]
  },
  {
   "cell_type": "code",
   "execution_count": 14,
   "metadata": {},
   "outputs": [],
   "source": [
    "\n",
    "llm = ChatOpenAI(model=\"gpt-4o-mini\")\n",
    "llm_with_tools = llm.bind_tools(all_tools)\n",
    "\n",
    "\n",
    "def chatbot(state: State):\n",
    "    return {\"messages\": [llm_with_tools.invoke(state[\"messages\"])]}\n"
   ]
  },
  {
   "cell_type": "code",
   "execution_count": 15,
   "metadata": {},
   "outputs": [
    {
     "data": {
      "image/png": "[encoded data removed]",
      "text/plain": [
       "<IPython.core.display.Image object>"
      ]
     },
     "metadata": {},
     "output_type": "display_data"
    }
   ],
   "source": [
    "\n",
    "graph_builder = StateGraph(State)\n",
    "graph_builder.add_node(\"chatbot\", chatbot)\n",
    "graph_builder.add_node(\"tools\", ToolNode(tools=all_tools))\n",
    "graph_builder.add_conditional_edges( \"chatbot\", tools_condition, \"tools\")\n",
    "graph_builder.add_edge(\"tools\", \"chatbot\")\n",
    "graph_builder.add_edge(START, \"chatbot\")\n",
    "\n",
    "memory = MemorySaver()\n",
    "graph = graph_builder.compile(checkpointer=memory)\n",
    "display(Image(graph.get_graph().draw_mermaid_png()))"
   ]
  },
  {
   "cell_type": "code",
   "execution_count": 16,
   "metadata": {},
   "outputs": [
    {
     "name": "stdout",
     "output_type": "stream",
     "text": [
      "* Running on local URL:  http://127.0.0.1:7867\n",
      "* To create a public link, set `share=True` in `launch()`.\n"
     ]
    },
    {
     "data": {
      "text/html": [
       "<div><iframe src=\"http://127.0.0.1:7867/\" width=\"100%\" height=\"500\" allow=\"autoplay; camera; microphone; clipboard-read; clipboard-write;\" frameborder=\"0\" allowfullscreen></iframe></div>"
      ],
      "text/plain": [
       "<IPython.core.display.HTML object>"
      ]
     },
     "metadata": {},
     "output_type": "display_data"
    },
    {
     "data": {
      "text/plain": []
     },
     "execution_count": 16,
     "metadata": {},
     "output_type": "execute_result"
    }
   ],
   "source": [
    "config = {\"configurable\": {\"thread_id\": \"10\"}}\n",
    "\n",
    "async def chat(user_input: str, history):\n",
    "    result = await graph.ainvoke({\"messages\": [{\"role\": \"user\", \"content\": user_input}]}, config=config)\n",
    "    return result[\"messages\"][-1].content\n",
    "\n",
    "\n",
    "gr.ChatInterface(chat, type=\"messages\").launch()"
   ]
  },
  {
   "cell_type": "code",
   "execution_count": null,
   "metadata": {},
   "outputs": [],
   "source": []
  }
 ],
 "metadata": {
  "kernelspec": {
   "display_name": ".venv",
   "language": "python",
   "name": "python3"
  },
  "language_info": {
   "codemirror_mode": {
    "name": "ipython",
    "version": 3
   },
   "file_extension": ".py",
   "mimetype": "text/x-python",
   "name": "python",
   "nbconvert_exporter": "python",
   "pygments_lexer": "ipython3",
   "version": "3.12.7"
  }
 },
 "nbformat": 4,
 "nbformat_minor": 2
}
